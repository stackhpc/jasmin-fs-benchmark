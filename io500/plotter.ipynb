{
 "cells": [
  {
   "cell_type": "code",
   "execution_count": 1,
   "id": "566b8a85-bc6c-42d9-8654-58bba5eb83a2",
   "metadata": {},
   "outputs": [
    {
     "name": "stdout",
     "output_type": "stream",
     "text": [
      "loading ./runs/panasas-1-1-300-0-POSIX/result_summary.txt\n",
      "loading ./runs/panasas-1-2-300-0-POSIX/result_summary.txt\n",
      "loading ./runs/quobyte-1-1-300-0-POSIX/result_summary.txt\n",
      "loading ./runs/quobyte-1-2-300-0-POSIX/result_summary.txt\n",
      "loading ./runs/panasas-1-4-300-0-POSIX/result_summary.txt\n",
      "loading ./runs/quobyte-1-4-300-0-POSIX/result_summary.txt\n",
      "loading ./runs/panasas-1-16-300-0-POSIX/result_summary.txt\n",
      "loading ./runs/quobyte-1-16-300-0-POSIX/result_summary.txt\n",
      "loading ./runs/panasas-2-2-300-0-POSIX/result_summary.txt\n",
      "loading ./runs/quobyte-2-2-300-0-POSIX/result_summary.txt\n",
      "loading ./runs/panasas-10-2-300-0-POSIX/result_summary.txt\n",
      "loading ./runs/quobyte-10-2-300-0-POSIX/result_summary.txt\n",
      "loading ./runs/panasas-1-1-300-1-POSIX/result_summary.txt\n",
      "loading ./runs/panasas-1-1-300-2-POSIX/result_summary.txt\n",
      "loading ./runs/quobyte-1-1-300-1-POSIX/result_summary.txt\n",
      "loading ./runs/quobyte-1-1-300-2-POSIX/result_summary.txt\n",
      "loading ./runs/panasas-1-2-300-1-POSIX/result_summary.txt\n",
      "loading ./runs/panasas-1-2-300-2-POSIX/result_summary.txt\n",
      "loading ./runs/quobyte-1-2-300-1-POSIX/result_summary.txt\n",
      "loading ./runs/quobyte-1-2-300-2-POSIX/result_summary.txt\n",
      "loading ./runs/panasas-1-4-300-1-POSIX/result_summary.txt\n",
      "loading ./runs/panasas-1-4-300-2-POSIX/result_summary.txt\n",
      "loading ./runs/quobyte-1-4-300-1-POSIX/result_summary.txt\n",
      "loading ./runs/quobyte-1-4-300-2-POSIX/result_summary.txt\n",
      "loading ./runs/panasas-1-16-300-1-POSIX/result_summary.txt\n",
      "loading ./runs/panasas-1-16-300-2-POSIX/result_summary.txt\n",
      "loading ./runs/quobyte-1-16-300-2-POSIX/result_summary.txt\n",
      "loading ./runs/panasas-2-2-300-1-POSIX/result_summary.txt\n",
      "loading ./runs/panasas-2-2-300-2-POSIX/result_summary.txt\n",
      "loading ./runs/quobyte-2-2-300-1-POSIX/result_summary.txt\n",
      "loading ./runs/quobyte-2-2-300-2-POSIX/result_summary.txt\n",
      "loading ./runs/panasas-10-2-300-1-POSIX/result_summary.txt\n",
      "loading ./runs/panasas-10-2-300-2-POSIX/result_summary.txt\n",
      "loading ./runs/quobyte-10-2-300-1-POSIX/result_summary.txt\n",
      "loading ./runs/quobyte-10-2-300-2-POSIX/result_summary.txt\n",
      "loading ./runs/pure-1-1-300-0-POSIX/result_summary.txt\n",
      "loading ./runs/pure-1-1-300-1-POSIX/result_summary.txt\n",
      "loading ./runs/pure-1-1-300-2-POSIX/result_summary.txt\n",
      "loading ./runs/pure-1-2-300-0-POSIX/result_summary.txt\n",
      "loading ./runs/pure-1-2-300-1-POSIX/result_summary.txt\n",
      "loading ./runs/pure-1-2-300-2-POSIX/result_summary.txt\n",
      "loading ./runs/pure-1-4-300-0-POSIX/result_summary.txt\n",
      "loading ./runs/panasas-1-1-300-0-MPIIO/result_summary.txt\n",
      "loading ./runs/panasas-1-1-300-1-MPIIO/result_summary.txt\n",
      "loading ./runs/panasas-1-1-300-2-MPIIO/result_summary.txt\n",
      "loading ./runs/panasas-1-2-300-0-MPIIO/result_summary.txt\n",
      "loading ./runs/panasas-1-2-300-1-MPIIO/result_summary.txt\n",
      "loading ./runs/panasas-1-2-300-2-MPIIO/result_summary.txt\n",
      "loading ./runs/panasas-1-4-300-0-MPIIO/result_summary.txt\n",
      "loading ./runs/panasas-1-4-300-1-MPIIO/result_summary.txt\n",
      "loading ./runs/panasas-1-32-300-0-POSIX/result_summary.txt\n",
      "Loaded 51 result files.\n",
      "Columns/units:\n",
      "{'nodes': None, 'ntasks_per_node': None, 'filesystem.name': None, 'filesystem.mountpoint': None, 'stonewall': None, 'iters': None, 'time': None, 'ior_api': None, 'ior-easy-write': 'GiB/s', 'mdtest-easy-write': 'kIOPS', 'ior-hard-write': 'GiB/s', 'mdtest-hard-write': 'kIOPS', 'find': 'kIOPS', 'ior-easy-read': 'GiB/s', 'mdtest-easy-stat': 'kIOPS', 'ior-hard-read': 'GiB/s', 'mdtest-hard-stat': 'kIOPS', 'mdtest-easy-delete': 'kIOPS', 'mdtest-hard-read': 'kIOPS', 'mdtest-hard-delete': 'kIOPS', 'bandwidth-score': 'GiB/s', 'iops-score': 'kiops', 'total-score': None}\n",
      "\n"
     ]
    }
   ],
   "source": [
    "import pandas as pd\n",
    "import numpy as np\n",
    "import matplotlib.pyplot as plt\n",
    "import glob, os\n",
    "import read_summary\n",
    "\n",
    "# Create a dataframe and units dict from any result summary files found:\n",
    "pattern = './runs/*/result_summary.txt'\n",
    "results, units = read_summary.df_from_pattern(pattern)\n",
    "print('Loaded %i result files.' % len(results))\n",
    "print('Columns/units:')\n",
    "print(units)\n",
    "print()"
   ]
  },
  {
   "cell_type": "code",
   "execution_count": 2,
   "id": "a5286793-e698-4957-8ce6-e2cb0d0d03f4",
   "metadata": {},
   "outputs": [
    {
     "name": "stdout",
     "output_type": "stream",
     "text": [
      "score_cols: ['bandwidth-score', 'iops-score', 'total-score']\n",
      "descr_cols: ['nodes', 'ntasks_per_node', 'filesystem.name', 'filesystem.mountpoint', 'stonewall', 'iters', 'time', 'ior_api']\n",
      "bw_cols: ['ior-easy-write', 'ior-hard-write', 'ior-easy-read', 'ior-hard-read']\n",
      "iops_cols: ['mdtest-easy-write', 'mdtest-hard-write', 'find', 'mdtest-easy-stat', 'mdtest-hard-stat', 'mdtest-easy-delete', 'mdtest-hard-read', 'mdtest-hard-delete']\n",
      "Test matrix summary:\n",
      "stonewall : 300\n",
      "time : 4:0:0\n",
      "nodes : [1, 2, 10]\n",
      "ntasks_per_node : [1, 2, 4, 16, 32]\n",
      "filesystem.name : ['panasas', 'pure', 'quobyte']\n",
      "filesystem.mountpoint : ['/gws/nopw/j04/perf_testing3/stackhpc', '/gws/pw/j07/perf_testing3', '/work/stackhpc-pure/']\n",
      "iters : [0, 1, 2]\n",
      "ior_api : ['MPIIO', 'POSIX']\n"
     ]
    }
   ],
   "source": [
    "# Define utilities\n",
    "def describe(df):\n",
    "    \"\"\" Given a dataframe, return a dict (constants, variables) where both are dicts keyed by column name:\n",
    "            - Values in `constants` are the single value from that column.\n",
    "            - Values in `variables` are a list of sorted unique values from that column.\n",
    "    \"\"\"\n",
    "    constants = {}\n",
    "    variables = {}\n",
    "    for c in df.columns:\n",
    "        vs = set(df[c])\n",
    "        if len(vs) == 1:\n",
    "            constants[c] = df[c].iloc[0]\n",
    "        else:\n",
    "            variables[c] = sorted(list(vs))\n",
    "    return constants, variables\n",
    "\n",
    "# Characterise columns as bandwidth, IOPs, or descriptive:\n",
    "# print('units:', units)\n",
    "bw_unit = 'GiB/s'\n",
    "iops_unit = 'kIOPS'\n",
    "score_cols = [c for c, u in units.items() if 'score' in c]\n",
    "print('score_cols:', score_cols)\n",
    "descr_cols = [c for c, u in units.items() if (u is None and 'score' not in c)]\n",
    "print('descr_cols:', descr_cols)\n",
    "bw_cols = [c for c, u in units.items() if (u == bw_unit and 'score' not in c)]\n",
    "print('bw_cols:', bw_cols)\n",
    "iops_cols = [c for c, u in units.items() if (u == iops_unit and 'score' not in c)]\n",
    "print('iops_cols:', iops_cols)\n",
    "metric_names = {\n",
    "    bw_unit: 'Bandwidth',\n",
    "    iops_init: 'IOPs',\n",
    "}\n",
    "\n",
    "print('Test matrix summary:')\n",
    "result_consts, result_vars = describe(results[descr_cols])\n",
    "for k, v in result_consts.items():\n",
    "    print(k, ':', v)\n",
    "for k, v in result_vars.items():\n",
    "    print(k,':', list(v))"
   ]
  },
  {
   "cell_type": "code",
   "execution_count": 7,
   "id": "0e5c8320-ebe7-4068-9f57-508c184a1d95",
   "metadata": {},
   "outputs": [
    {
     "ename": "NameError",
     "evalue": "name 'metric' is not defined",
     "output_type": "error",
     "traceback": [
      "\u001b[0;31m---------------------------------------------------------------------------\u001b[0m",
      "\u001b[0;31mNameError\u001b[0m                                 Traceback (most recent call last)",
      "Input \u001b[0;32mIn [7]\u001b[0m, in \u001b[0;36m<cell line: 22>\u001b[0;34m()\u001b[0m\n\u001b[1;32m     34\u001b[0m ax\u001b[38;5;241m.\u001b[39mbar(y_pos, mins[col], width\u001b[38;5;241m=\u001b[39m\u001b[38;5;241m0.8\u001b[39m, label\u001b[38;5;241m=\u001b[39m\u001b[38;5;124m'\u001b[39m\u001b[38;5;124mmax\u001b[39m\u001b[38;5;124m'\u001b[39m, color\u001b[38;5;241m=\u001b[39mbarcolors)\n\u001b[1;32m     35\u001b[0m ax\u001b[38;5;241m.\u001b[39mset_xticks(y_pos, labels, rotation\u001b[38;5;241m=\u001b[39m\u001b[38;5;241m90\u001b[39m)\n\u001b[0;32m---> 36\u001b[0m ax\u001b[38;5;241m.\u001b[39mset_ylabel(\u001b[38;5;124mf\u001b[39m\u001b[38;5;124m\"\u001b[39m\u001b[38;5;132;01m{\u001b[39;00m metric[\u001b[38;5;124m'\u001b[39m\u001b[38;5;124mname\u001b[39m\u001b[38;5;124m'\u001b[39m] \u001b[38;5;132;01m}\u001b[39;00m\u001b[38;5;124m (\u001b[39m\u001b[38;5;132;01m{\u001b[39;00m metric[\u001b[38;5;124m'\u001b[39m\u001b[38;5;124munit\u001b[39m\u001b[38;5;124m'\u001b[39m] \u001b[38;5;132;01m}\u001b[39;00m\u001b[38;5;124m)\u001b[39m\u001b[38;5;124m\"\u001b[39m)\n\u001b[1;32m     37\u001b[0m ax\u001b[38;5;241m.\u001b[39mset_title(\u001b[38;5;124mf\u001b[39m\u001b[38;5;124m'\u001b[39m\u001b[38;5;132;01m{\u001b[39;00m col \u001b[38;5;132;01m}\u001b[39;00m\u001b[38;5;124m: IOR API=\u001b[39m\u001b[38;5;132;01m{\u001b[39;00m g \u001b[38;5;132;01m}\u001b[39;00m\u001b[38;5;124m'\u001b[39m)\n\u001b[1;32m     38\u001b[0m ax\u001b[38;5;241m.\u001b[39mgrid(visible\u001b[38;5;241m=\u001b[39m\u001b[38;5;28;01mTrue\u001b[39;00m, axis\u001b[38;5;241m=\u001b[39m\u001b[38;5;124m'\u001b[39m\u001b[38;5;124my\u001b[39m\u001b[38;5;124m'\u001b[39m)\n",
      "\u001b[0;31mNameError\u001b[0m: name 'metric' is not defined"
     ]
    },
    {
     "data": {
      "image/png": "[encoded data removed]",
      "text/plain": [
       "<Figure size 1440x288 with 1 Axes>"
      ]
     },
     "metadata": {
      "needs_background": "light"
     },
     "output_type": "display_data"
    }
   ],
   "source": [
    "# Plot 2x barcharts per row, MPIIO and POSIX apis, where a row is an io500 test e.g. ior-easy-write.\n",
    "# Bars are coloured by stonewall time and filesystem.\n",
    "\n",
    "import matplotlib.patches as mpatches\n",
    "\n",
    "grouper = ['nodes', 'ntasks_per_node', 'filesystem.name', 'stonewall', 'ior_api']\n",
    "filtered_results = results.loc[results['ior_api'] == 'POSIX']\n",
    "filtered_results = filtered_results.loc[results['nodes'] == 1]\n",
    "color_options = { # see tableau palette https://matplotlib.org/stable/gallery/color/named_colors.html\n",
    "                # ('pure', 30): 'tab:cyan',\n",
    "                ('pure', 300): 'tab:blue',\n",
    "                # ('panasas', 30): 'tab:orange',\n",
    "                ('panasas', 300): 'tab:orange',\n",
    "                # ('quobyte', 30): 'tab:green',\n",
    "                ('quobyte', 300): 'tab:green',\n",
    "                ('max of any repeat',): 'tab:gray',\n",
    "}\n",
    "\n",
    "legend_entries = [mpatches.Patch(color=v, label=','.join([str(x) for x in k])) for k, v in color_options.items()]\n",
    "    \n",
    "grouped = filtered_results.groupby('ior_api')\n",
    "for col in bw_cols + iops_cols:\n",
    "    fig, axs = plt.subplots(figsize=(20, 4), nrows=1, ncols=len(grouped), sharey=True)\n",
    "    for ig, (g, group) in enumerate(grouped):\n",
    "        ax = axs[ig] if len(grouped) > 1 else axs\n",
    "        mins = group.groupby(grouper).min().reset_index() # reset ditches heirarchical index\n",
    "        maxs = group.groupby(grouper).max().reset_index()\n",
    "            \n",
    "        barcolors = [color_options[z] for z in zip(mins['filesystem.name'], mins['stonewall'])]\n",
    "            \n",
    "        labels = mins[grouper].astype(str).agg('-'.join, axis='columns')\n",
    "        y_pos=range(len(mins))\n",
    "        ax.bar(y_pos, maxs[col], width=0.8, label='min', color='darkgray')\n",
    "        ax.bar(y_pos, mins[col], width=0.8, label='max', color=barcolors)\n",
    "        ax.set_xticks(y_pos, labels, rotation=90)\n",
    "        ax.set_ylabel(f\"{ metric_names[col] } ({ units[col[' })\")\n",
    "        ax.set_title(f'{ col }: IOR API={ g }')\n",
    "        ax.grid(visible=True, axis='y')\n",
    "        # sharey turns off tick labels on the shared axes. However resetting as below breaks github rendering:\n",
    "        # ax.tick_params(axis='y', labelleft=True)\n",
    "    if len(grouped) > 1: # only add legend to RH plot:\n",
    "        axs[1].legend(handles=legend_entries)\n",
    "    else:\n",
    "        axs.legend(handles=legend_entries)"
   ]
  },
  {
   "cell_type": "code",
   "execution_count": null,
   "id": "bb34f9bb-a659-4f28-b6ee-c8aa57987e1c",
   "metadata": {},
   "outputs": [],
   "source": [
    "results.to_csv('all-results.csv')"
   ]
  }
 ],
 "metadata": {
  "kernelspec": {
   "display_name": "Python 3 + Jaspy",
   "language": "python",
   "name": "jaspy"
  },
  "language_info": {
   "codemirror_mode": {
    "name": "ipython",
    "version": 3
   },
   "file_extension": ".py",
   "mimetype": "text/x-python",
   "name": "python",
   "nbconvert_exporter": "python",
   "pygments_lexer": "ipython3",
   "version": "3.10.5"
  }
 },
 "nbformat": 4,
 "nbformat_minor": 5
}
