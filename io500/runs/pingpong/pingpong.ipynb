{
 "cells": [
  {
   "cell_type": "code",
   "execution_count": 5,
   "id": "97d527af-0960-49d1-a47b-55998d1291d3",
   "metadata": {},
   "outputs": [],
   "source": [
    "# adapted from https://github.com/stackhpc/ansible-slurm-appliance/blob/main/ansible/roles/hpctests/files/plot_imb_pingpong.py\n",
    "import matplotlib as mpl\n",
    "import matplotlib.pyplot as plt\n",
    "from matplotlib import ticker\n",
    "import numpy as np\n",
    "import os\n",
    "import sys\n",
    "\n",
    "def sizeof_fmt(num, suffix='B'):\n",
    "    \"\"\" TODO: \"\"\"\n",
    "    # from https://stackoverflow.com/a/1094933/916373\n",
    "    for unit in ['','Ki','Mi','Gi','Ti','Pi','Ei','Zi']:\n",
    "        if abs(num) < 1024.0:\n",
    "            return \"%3.1f%s%s\" % (num, unit, suffix)\n",
    "        num /= 1024.0\n",
    "    return \"%.1f%s%s\" % (num, 'Yi', suffix)\n",
    "\n",
    "def read_imb_out(path):\n",
    "    \"\"\" Read stdout from an IMB-MPI1 run.\n",
    "        \n",
    "        Returns a dict with:\n",
    "            key:= int, total number of processes involved\n",
    "            value:= pandas dataframe, i.e. one per results table. Columns as per table.\n",
    "        \n",
    "        If multiple results tables are present it is assumed that they are all the same benchmark,\n",
    "        and only differ in the number of processes.\n",
    "    \"\"\"\n",
    "\n",
    "    data = {}\n",
    "\n",
    "    COLTYPES = { # all benchmark names here should be lowercase\n",
    "        'uniband': (int, int, float, int), # #bytes #repetitions Mbytes/sec Msg/sec\n",
    "        'biband': (int, int, float, int),\n",
    "        'pingpong':(int, int, float, float), # #bytes #repetitions t[usec] Mbytes/sec\n",
    "        'alltoall':(int, int, float, float, float) # #bytes #repetitions t_min[usec] t_max[usec] t_avg[usec]\n",
    "    }\n",
    "\n",
    "    with open(path) as f:\n",
    "        for line in f:\n",
    "            if line.startswith('# Benchmarking '):\n",
    "                benchmark = line.split()[-1].lower()\n",
    "                if benchmark not in COLTYPES:\n",
    "                    raise ValueError('Do not know how to read %r benchmark in %s' % (benchmark, path))\n",
    "                converters = COLTYPES[benchmark]\n",
    "                line = next(f)\n",
    "                if not line.startswith('# #processes = '):\n",
    "                    raise ValueError('expected %s, got %s' % (expect, nprocs_line))\n",
    "                n_procs = int(line.split('=')[-1].strip())\n",
    "                while line.startswith('#'):\n",
    "                    line = next(f) # may or may not include line \"# .. additional processes waiting in MPI_Barrier\", plus other # lines\n",
    "                rows = []\n",
    "                while True:\n",
    "                    line = next(f).strip()\n",
    "                    if line == '':\n",
    "                        break\n",
    "                    rows.append([f(v) for (f, v) in zip(converters, line.split())])\n",
    "                # turn data around:\n",
    "                cols = [[] for _ in range(len(converters))]\n",
    "                for r in rows:\n",
    "                    for ic, c in enumerate(cols):\n",
    "                        c.append(r[ic])\n",
    "                data[n_procs] = cols\n",
    "    return data\n",
    "\n",
    "\n",
    "def plot_imb_pong(path):\n",
    "    d = read_imb_out(path)\n",
    "    if len(d) > 1:\n",
    "        raise ValueError('Found > 1 benchmark in', sys.argv[1])\n",
    "    for n, df in d.items():\n",
    "        fig, ax1 = plt.subplots()\n",
    "        ax2 = ax1.twinx()\n",
    "        ax1.plot(df[0], df[2], label='latency', color='b')\n",
    "        ax2.plot(df[0], df[3], label='bandwidth', color='r')\n",
    "        ax1.set_xscale('log', base=2)\n",
    "        ax1.set_yscale('log', base=10)\n",
    "        ax1.xaxis.set_major_formatter(ticker.FuncFormatter(lambda x, pos: sizeof_fmt(x)))\n",
    "        ax1.grid(True, which=\"both\")\n",
    "        ax1.set_xlabel('#bytes')\n",
    "        ax1.set_ylabel('latency ($\\mu$s)', color='b')\n",
    "        ax2.set_ylabel('bandwidth (Mbytes/sec)', color='r')\n",
    "        fig.legend(loc='upper left')\n",
    "        plt.tight_layout()\n",
    "    return d"
   ]
  },
  {
   "cell_type": "code",
   "execution_count": 9,
   "id": "5a42560f-14b4-4c0a-86f0-b74fa2aa3e01",
   "metadata": {},
   "outputs": [
    {
     "name": "stdout",
     "output_type": "stream",
     "text": [
      "zero-message latency: 22.15 us\n",
      "max bandwidth: 2555.1 Mbytes/s\n"
     ]
    },
    {
     "data": {
      "image/png": "[encoded data removed]",
      "text/plain": [
       "<Figure size 432x288 with 2 Axes>"
      ]
     },
     "metadata": {
      "needs_background": "light"
     },
     "output_type": "display_data"
    }
   ],
   "source": [
    "df = plot_imb_pong('slurm-44239758.out')\n",
    "\n",
    "print('zero-message latency:', df[2][2][0], 'us') # 2 procs, cols: bytes #repetitions t[usec] Mbytes/sec\n",
    "print('max bandwidth:', max(df[2][3]), 'Mbytes/s')\n",
    "\n"
   ]
  },
  {
   "cell_type": "code",
   "execution_count": null,
   "id": "b7bfcd5b-3ba1-41dd-8212-eb568fd0219e",
   "metadata": {},
   "outputs": [],
   "source": []
  }
 ],
 "metadata": {
  "kernelspec": {
   "display_name": "Python 3 + Jaspy",
   "language": "python",
   "name": "jaspy"
  },
  "language_info": {
   "codemirror_mode": {
    "name": "ipython",
    "version": 3
   },
   "file_extension": ".py",
   "mimetype": "text/x-python",
   "name": "python",
   "nbconvert_exporter": "python",
   "pygments_lexer": "ipython3",
   "version": "3.10.5"
  }
 },
 "nbformat": 4,
 "nbformat_minor": 5
}
